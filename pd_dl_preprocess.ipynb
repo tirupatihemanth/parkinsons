{
 "cells": [
  {
   "cell_type": "code",
   "execution_count": 25,
   "metadata": {},
   "outputs": [],
   "source": [
    "import synapseclient\n",
    "import pandas as pd\n",
    "import numpy as np\n",
    "import sklearn\n",
    "import json\n",
    "np.random.seed(42)"
   ]
  },
  {
   "cell_type": "code",
   "execution_count": 125,
   "metadata": {},
   "outputs": [],
   "source": [
    "from sklearn.model_selection import train_test_split"
   ]
  },
  {
   "cell_type": "code",
   "execution_count": 26,
   "metadata": {},
   "outputs": [
    {
     "name": "stdout",
     "output_type": "stream",
     "text": [
      "Welcome, Hemanth Kumar Tirupati!\n",
      "\n"
     ]
    }
   ],
   "source": [
    "syn = synapseclient.login()"
   ]
  },
  {
   "cell_type": "code",
   "execution_count": 27,
   "metadata": {},
   "outputs": [],
   "source": [
    "WALKING_TABLE = 'syn5511449'\n",
    "DEMG_TABLE = 'syn5511429'"
   ]
  },
  {
   "cell_type": "code",
   "execution_count": 28,
   "metadata": {},
   "outputs": [],
   "source": [
    "wk_query = syn.tableQuery(f'SELECT * FROM {WALKING_TABLE} limit 5000')"
   ]
  },
  {
   "cell_type": "code",
   "execution_count": 29,
   "metadata": {},
   "outputs": [
    {
     "name": "stdout",
     "output_type": "stream",
     "text": [
      "Index(['recordId', 'healthCode', 'createdOn', 'appVersion', 'phoneInfo',\n",
      "       'accel_walking_outbound.json.items',\n",
      "       'deviceMotion_walking_outbound.json.items',\n",
      "       'pedometer_walking_outbound.json.items',\n",
      "       'accel_walking_return.json.items',\n",
      "       'deviceMotion_walking_return.json.items',\n",
      "       'pedometer_walking_return.json.items', 'accel_walking_rest.json.items',\n",
      "       'deviceMotion_walking_rest.json.items', 'medTimepoint'],\n",
      "      dtype='object')\n"
     ]
    },
    {
     "data": {
      "text/plain": [
       "(4696, 5)"
      ]
     },
     "execution_count": 29,
     "metadata": {},
     "output_type": "execute_result"
    }
   ],
   "source": [
    "wk_df = wk_query.asDataFrame()\n",
    "print(wk_df.columns)\n",
    "wk_df = wk_df[['healthCode',  'deviceMotion_walking_outbound.json.items', 'deviceMotion_walking_return.json.items', 'deviceMotion_walking_rest.json.items', 'medTimepoint']]\n",
    "wk_df = wk_df[wk_df['medTimepoint']!='Just after Parkinson medication (at your best)']\n",
    "wk_df.shape"
   ]
  },
  {
   "cell_type": "code",
   "execution_count": 30,
   "metadata": {},
   "outputs": [],
   "source": [
    "dgtrue_query = syn.tableQuery(f'SELECT * FROM {DEMG_TABLE} WHERE \"professional-diagnosis\" IS True limit 1000')\n",
    "dgfalse_query = syn.tableQuery(f'SELECT * FROM {DEMG_TABLE} WHERE \"professional-diagnosis\" IS False limit 1000')"
   ]
  },
  {
   "cell_type": "code",
   "execution_count": 31,
   "metadata": {},
   "outputs": [],
   "source": [
    "dgtrue_df = dgtrue_query.asDataFrame()\n",
    "dgfalse_df = dgfalse_query.asDataFrame()\n",
    "dg_df = pd.concat([dgtrue_df, dgfalse_df])"
   ]
  },
  {
   "cell_type": "code",
   "execution_count": 32,
   "metadata": {},
   "outputs": [
    {
     "name": "stdout",
     "output_type": "stream",
     "text": [
      "Index(['recordId', 'healthCode', 'createdOn', 'appVersion', 'phoneInfo', 'age',\n",
      "       'are-caretaker', 'deep-brain-stimulation', 'diagnosis-year',\n",
      "       'education', 'employment', 'gender', 'health-history',\n",
      "       'healthcare-provider', 'home-usage', 'last-smoked', 'maritalStatus',\n",
      "       'medical-usage', 'medical-usage-yesterday', 'medication-start-year',\n",
      "       'onset-year', 'packs-per-day', 'past-participation', 'phone-usage',\n",
      "       'professional-diagnosis', 'race', 'smartphone', 'smoked', 'surgery',\n",
      "       'video-usage', 'years-smoking'],\n",
      "      dtype='object')\n",
      "                                    healthCode   age  professional-diagnosis\n",
      "20597_21  2257e233-5815-4211-b0f2-7f135d1604b0  65.0                    True\n",
      "20602_21  4a318f75-f290-44cf-9bb3-5080e546b13f  59.0                    True\n",
      "20604_21  84cdec84-5148-47d3-822d-b829ef24d11f  69.0                    True\n",
      "20607_21  9d478389-f02d-47a0-bb1e-c226bac23030  43.0                    True\n",
      "20615_21  945bb372-bfbe-4ef0-87d9-d268bc0b2d8e  69.0                    True\n",
      "(2000, 3)\n"
     ]
    },
    {
     "data": {
      "text/plain": [
       "professional-diagnosis\n",
       "True     1000\n",
       "False    1000\n",
       "Name: count, dtype: int64"
      ]
     },
     "execution_count": 32,
     "metadata": {},
     "output_type": "execute_result"
    }
   ],
   "source": [
    "print(dg_df.columns)\n",
    "dg_df = dg_df[['healthCode', 'age', 'professional-diagnosis']]\n",
    "print(dg_df.head())\n",
    "print(dg_df.shape)\n",
    "dg_df['professional-diagnosis'].value_counts()"
   ]
  },
  {
   "cell_type": "code",
   "execution_count": 304,
   "metadata": {},
   "outputs": [
    {
     "name": "stdout",
     "output_type": "stream",
     "text": [
      "(2000, 3) (4696, 5)\n",
      "(2140, 7)\n",
      "                             healthCode   age  professional-diagnosis  \\\n",
      "0  2257e233-5815-4211-b0f2-7f135d1604b0  65.0                    True   \n",
      "1  2257e233-5815-4211-b0f2-7f135d1604b0  65.0                    True   \n",
      "2  2257e233-5815-4211-b0f2-7f135d1604b0  65.0                    True   \n",
      "3  2257e233-5815-4211-b0f2-7f135d1604b0  65.0                    True   \n",
      "4  2257e233-5815-4211-b0f2-7f135d1604b0  65.0                    True   \n",
      "\n",
      "   deviceMotion_walking_outbound.json.items  \\\n",
      "0                                   5400565   \n",
      "1                                   5476404   \n",
      "2                                   5481901   \n",
      "3                                   5444867   \n",
      "4                                   5653760   \n",
      "\n",
      "   deviceMotion_walking_return.json.items  \\\n",
      "0                                 5400615   \n",
      "1                                 5476689   \n",
      "2                                 5482218   \n",
      "3                                 5445148   \n",
      "4                                 5654028   \n",
      "\n",
      "   deviceMotion_walking_rest.json.items  medTimepoint  \n",
      "0                               5400667  Another time  \n",
      "1                               5476993  Another time  \n",
      "2                               5482444  Another time  \n",
      "3                               5445470  Another time  \n",
      "4                               5654332  Another time  \n",
      "(1988, 7)\n",
      "professional-diagnosis\n",
      "False    1000\n",
      "True      988\n",
      "Name: count, dtype: int64\n"
     ]
    }
   ],
   "source": [
    "print(dg_df.shape, wk_df.shape)\n",
    "pd_df = pd.merge(dg_df, wk_df, on='healthCode', how='inner')\n",
    "pd_df = pd_df.dropna()\n",
    "print(pd_df.shape)\n",
    "print(pd_df.head())\n",
    "pd_df['professional-diagnosis'].value_counts()\n",
    "true_sample = pd_df[pd_df['professional-diagnosis'] == True][:1000]\n",
    "false_sample = pd_df[pd_df['professional-diagnosis'] == False][:1000]\n",
    "\n",
    "\n",
    "# Concatenate the sampled values\n",
    "pd_df = pd.concat([true_sample, false_sample])\n",
    "print(pd_df.shape)\n",
    "print(pd_df['professional-diagnosis'].value_counts())"
   ]
  },
  {
   "cell_type": "code",
   "execution_count": 35,
   "metadata": {},
   "outputs": [
    {
     "name": "stdout",
     "output_type": "stream",
     "text": [
      "Downloading 0 files, 5000 cached locally\n",
      "Downloading 0 files, 5000 cached locally\n",
      "Downloading 0 files, 5000 cached locally\n"
     ]
    }
   ],
   "source": [
    "fileMap_walk_out = syn.downloadTableColumns(wk_query, ['deviceMotion_walking_outbound.json.items'])\n",
    "fileMap_walk_in = syn.downloadTableColumns(wk_query, ['deviceMotion_walking_return.json.items'])\n",
    "fileMap_walk_rest = syn.downloadTableColumns(wk_query, ['deviceMotion_walking_rest.json.items'])"
   ]
  },
  {
   "cell_type": "code",
   "execution_count": 36,
   "metadata": {},
   "outputs": [],
   "source": [
    "def read_json_file(file_handle_id, fileMap):\n",
    "    path = fileMap.get(str(file_handle_id))\n",
    "    if path is None:\n",
    "        return None\n",
    "    with open(path) as f:\n",
    "        data = json.load(f)\n",
    "    return data"
   ]
  },
  {
   "cell_type": "code",
   "execution_count": 103,
   "metadata": {},
   "outputs": [],
   "source": [
    "def accel_array_padded(data):\n",
    "    accel = [record['userAcceleration'] for record in data]\n",
    "    accel = [list(record.values()) for record in accel]\n",
    "    return np.asarray(accel)"
   ]
  },
  {
   "cell_type": "code",
   "execution_count": 75,
   "metadata": {},
   "outputs": [
    {
     "name": "stdout",
     "output_type": "stream",
     "text": [
      "(3001, 3)\n"
     ]
    },
    {
     "data": {
      "text/plain": [
       "{'attitude': {'y': 0.02805523755830615,\n",
       "  'w': 0.6448983010414894,\n",
       "  'z': 0.003125350360080418,\n",
       "  'x': -0.7637468933779529},\n",
       " 'timestamp': 2593.75614725,\n",
       " 'rotationRate': {'x': 0.1270270943641663,\n",
       "  'y': -1.846529006958008,\n",
       "  'z': -0.2416433840990067},\n",
       " 'userAcceleration': {'x': 0.001780364778824151,\n",
       "  'y': 0.05194719135761261,\n",
       "  'z': 0.009953535161912441},\n",
       " 'gravity': {'x': 0.04095950350165367,\n",
       "  'y': 0.9849027991294861,\n",
       "  'z': 0.1681928336620331},\n",
       " 'magneticField': {'y': 0, 'z': 0, 'x': 0, 'accuracy': -1}}"
      ]
     },
     "execution_count": 75,
     "metadata": {},
     "output_type": "execute_result"
    }
   ],
   "source": [
    "data = read_json_file(5654332, fileMap_walk_rest)\n",
    "ls = accel_array_padded(data)\n",
    "print(ls.shape)\n",
    "data[0]"
   ]
  },
  {
   "cell_type": "code",
   "execution_count": 121,
   "metadata": {},
   "outputs": [],
   "source": [
    "X = []\n",
    "y = []\n",
    "\n",
    "for idx, row in pd_df.iterrows():\n",
    "    fileId = row['deviceMotion_walking_outbound.json.items']\n",
    "    label = row['professional-diagnosis']\n",
    "    data = read_json_file(fileId, fileMap_walk_out)\n",
    "    ts = accel_array_padded(data)\n",
    "    ts = np.pad(ts, ((0,4000-ts.shape[0]), (0,0)))\n",
    "    X.append(ts)\n",
    "    if label:\n",
    "        y.append(1)\n",
    "    else:\n",
    "        y.append(0)"
   ]
  },
  {
   "cell_type": "code",
   "execution_count": 122,
   "metadata": {},
   "outputs": [],
   "source": [
    "X_np = np.asarray(X)\n",
    "y_np = np.asarray(y)"
   ]
  },
  {
   "cell_type": "code",
   "execution_count": 131,
   "metadata": {},
   "outputs": [],
   "source": [
    "X_train, X_test, y_train, y_test = train_test_split(X_np, y_np, test_size=0.1, random_state=42, shuffle=True)"
   ]
  },
  {
   "cell_type": "code",
   "execution_count": 132,
   "metadata": {},
   "outputs": [
    {
     "name": "stdout",
     "output_type": "stream",
     "text": [
      "(1789, 4000, 3) (199, 4000, 3)\n"
     ]
    }
   ],
   "source": [
    "print(X_train.shape, X_test.shape)"
   ]
  },
  {
   "cell_type": "code",
   "execution_count": 137,
   "metadata": {},
   "outputs": [],
   "source": [
    "np.save('X_train.npy', X_train)\n",
    "np.save('X_test.npy', X_test)\n",
    "np.save('y_train.npy', y_train)\n",
    "np.save('y_test.npy', y_test)"
   ]
  }
 ],
 "metadata": {
  "kernelspec": {
   "display_name": "Python 3 (ipykernel)",
   "language": "python",
   "name": "python3"
  },
  "language_info": {
   "codemirror_mode": {
    "name": "ipython",
    "version": 3
   },
   "file_extension": ".py",
   "mimetype": "text/x-python",
   "name": "python",
   "nbconvert_exporter": "python",
   "pygments_lexer": "ipython3",
   "version": "3.9.6"
  }
 },
 "nbformat": 4,
 "nbformat_minor": 2
}
