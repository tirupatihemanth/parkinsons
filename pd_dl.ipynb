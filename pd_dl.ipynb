{
 "cells": [
  {
   "cell_type": "code",
   "execution_count": 141,
   "metadata": {},
   "outputs": [],
   "source": [
    "import torch\n",
    "import torch.nn as nn\n",
    "import torch.nn.functional as F\n",
    "from torch.utils.data import Dataset, DataLoader"
   ]
  },
  {
   "cell_type": "code",
   "execution_count": 138,
   "metadata": {},
   "outputs": [],
   "source": [
    "import numpy as np"
   ]
  },
  {
   "cell_type": "code",
   "execution_count": 162,
   "metadata": {},
   "outputs": [],
   "source": [
    "from tqdm.notebook import tqdm"
   ]
  },
  {
   "cell_type": "code",
   "execution_count": 261,
   "metadata": {},
   "outputs": [
    {
     "name": "stdout",
     "output_type": "stream",
     "text": [
      "mps\n"
     ]
    }
   ],
   "source": [
    "torch.manual_seed(42)\n",
    "device = torch.device(\"cpu\")\n",
    "if torch.cuda.is_available():\n",
    "    device = torch.device(\"cuda\")\n",
    "    torch.cuda.manual_seed(42)\n",
    "    torch.cuda.manual_seed_all(42)\n",
    "    torch.backends.cudnn.deterministic=True\n",
    "    torch.backends.cudnn.benchmark=False\n",
    "\n",
    "if torch.backends.mps.is_available():\n",
    "    device = torch.device(\"mps\")\n",
    "    torch.mps.manual_seed(42)\n",
    "\n",
    "print(device)"
   ]
  },
  {
   "cell_type": "code",
   "execution_count": 307,
   "metadata": {},
   "outputs": [],
   "source": [
    "class CNN_PD(nn.Module):\n",
    "    def __init__(self) -> None:\n",
    "        super(CNN_PD, self).__init__()\n",
    "        self.conv1 = nn.Sequential(\n",
    "            nn.Conv1d(3, 8, 5),\n",
    "            nn.BatchNorm1d(8), #Could Add F.relu as 3rd layer here after BatchNorm\n",
    "            nn.MaxPool1d(2, 2)\n",
    "        )\n",
    "        self.conv2 = nn.Sequential(\n",
    "            nn.Conv1d(8, 16, 5),\n",
    "            nn.BatchNorm1d(16),\n",
    "            nn.MaxPool1d(2,2)\n",
    "        )\n",
    "        self.conv3 = nn.Sequential(\n",
    "            nn.Conv1d(16, 32, 4),\n",
    "            nn.BatchNorm1d(32),\n",
    "            nn.MaxPool1d(2,2)\n",
    "        )\n",
    "        self.conv4 = nn.Sequential(\n",
    "            nn.Conv1d(32, 32, 4),\n",
    "            nn.BatchNorm1d(32),\n",
    "            nn.MaxPool1d(2,2)\n",
    "        )\n",
    "        self.conv5 = nn.Sequential(\n",
    "            nn.Conv1d(32, 64, 4),\n",
    "            nn.BatchNorm1d(64),\n",
    "            nn.MaxPool1d(2,2)\n",
    "        )\n",
    "        self.conv6 = nn.Sequential(\n",
    "            nn.Conv1d(64, 64, 4),\n",
    "            nn.BatchNorm1d(64),\n",
    "            nn.MaxPool1d(2,2)\n",
    "        )\n",
    "        self.conv7 = nn.Sequential(\n",
    "            nn.Conv1d(64, 128, 4),\n",
    "            nn.BatchNorm1d(128),\n",
    "            nn.MaxPool1d(2,2)\n",
    "        )\n",
    "        self.conv8 = nn.Sequential(\n",
    "            nn.Conv1d(128, 128, 5),\n",
    "            nn.BatchNorm1d(128),\n",
    "            nn.MaxPool1d(2,2)\n",
    "        )\n",
    "        self.fc = nn.Linear(128*12, 1) #128*12\n",
    "       \n",
    "\n",
    "    def forward(self, X):\n",
    "        X = self.conv1(X)\n",
    "        X = self.conv2(X)\n",
    "        X = self.conv3(X)\n",
    "        X = self.conv4(X)\n",
    "        X = self.conv5(X)\n",
    "        X = self.conv6(X)\n",
    "        X = self.conv7(X)\n",
    "        X = self.conv8(X)\n",
    "        X = X.view(-1, 128*12) #Batch\n",
    "        X = self.fc(X)\n",
    "        \n",
    "        return X\n"
   ]
  },
  {
   "cell_type": "code",
   "execution_count": 306,
   "metadata": {},
   "outputs": [],
   "source": [
    "class CNN_PD_9CH(nn.Module):\n",
    "    def __init__(self) -> None:\n",
    "        super(CNN_PD_9CH, self).__init__()\n",
    "        self.conv1 = nn.Sequential(\n",
    "            nn.Conv1d(3, 16, 5),\n",
    "            nn.BatchNorm1d(16), #Could Add F.relu as 3rd layer here after BatchNorm\n",
    "            nn.MaxPool1d(2, 2)\n",
    "        )\n",
    "        self.conv2 = nn.Sequential(\n",
    "            nn.Conv1d(16, 16, 5),\n",
    "            nn.BatchNorm1d(16),\n",
    "            nn.MaxPool1d(2,2)\n",
    "        )\n",
    "        self.conv3 = nn.Sequential(\n",
    "            nn.Conv1d(16, 32, 4),\n",
    "            nn.BatchNorm1d(32),\n",
    "            nn.MaxPool1d(2,2)\n",
    "        )\n",
    "        self.conv4 = nn.Sequential(\n",
    "            nn.Conv1d(32, 32, 4),\n",
    "            nn.BatchNorm1d(32),\n",
    "            nn.MaxPool1d(2,2)\n",
    "        )\n",
    "        self.conv5 = nn.Sequential(\n",
    "            nn.Conv1d(32, 64, 4),\n",
    "            nn.BatchNorm1d(64),\n",
    "            nn.MaxPool1d(2,2)\n",
    "        )\n",
    "        self.conv6 = nn.Sequential(\n",
    "            nn.Conv1d(64, 64, 4),\n",
    "            nn.BatchNorm1d(64),\n",
    "            nn.MaxPool1d(2,2)\n",
    "        )\n",
    "        self.conv7 = nn.Sequential(\n",
    "            nn.Conv1d(64, 128, 4),\n",
    "            nn.BatchNorm1d(128),\n",
    "            nn.MaxPool1d(2,2)\n",
    "        )\n",
    "        self.conv8 = nn.Sequential(\n",
    "            nn.Conv1d(128, 128, 5),\n",
    "            nn.BatchNorm1d(128),\n",
    "            nn.MaxPool1d(2,2)\n",
    "        )\n",
    "        self.fc = nn.Linear(128*12, 1) #128*12\n",
    "       \n",
    "\n",
    "    def forward(self, X):\n",
    "        X = self.conv1(X)\n",
    "        X = self.conv2(X)\n",
    "        X = self.conv3(X)\n",
    "        X = self.conv4(X)\n",
    "        X = self.conv5(X)\n",
    "        X = self.conv6(X)\n",
    "        X = self.conv7(X)\n",
    "        X = self.conv8(X)\n",
    "        X = X.view(-1, 128*12) #Batch\n",
    "        X = self.fc(X)\n",
    "        \n",
    "        return X"
   ]
  },
  {
   "cell_type": "code",
   "execution_count": 327,
   "metadata": {},
   "outputs": [],
   "source": [
    "NUM_EPOCHS=30 #100\n",
    "BATCH_SIZE=16"
   ]
  },
  {
   "cell_type": "code",
   "execution_count": 328,
   "metadata": {},
   "outputs": [
    {
     "name": "stdout",
     "output_type": "stream",
     "text": [
      "CNN_PD(\n",
      "  (conv1): Sequential(\n",
      "    (0): Conv1d(3, 8, kernel_size=(5,), stride=(1,))\n",
      "    (1): BatchNorm1d(8, eps=1e-05, momentum=0.1, affine=True, track_running_stats=True)\n",
      "    (2): MaxPool1d(kernel_size=2, stride=2, padding=0, dilation=1, ceil_mode=False)\n",
      "  )\n",
      "  (conv2): Sequential(\n",
      "    (0): Conv1d(8, 16, kernel_size=(5,), stride=(1,))\n",
      "    (1): BatchNorm1d(16, eps=1e-05, momentum=0.1, affine=True, track_running_stats=True)\n",
      "    (2): MaxPool1d(kernel_size=2, stride=2, padding=0, dilation=1, ceil_mode=False)\n",
      "  )\n",
      "  (conv3): Sequential(\n",
      "    (0): Conv1d(16, 32, kernel_size=(4,), stride=(1,))\n",
      "    (1): BatchNorm1d(32, eps=1e-05, momentum=0.1, affine=True, track_running_stats=True)\n",
      "    (2): MaxPool1d(kernel_size=2, stride=2, padding=0, dilation=1, ceil_mode=False)\n",
      "  )\n",
      "  (conv4): Sequential(\n",
      "    (0): Conv1d(32, 32, kernel_size=(4,), stride=(1,))\n",
      "    (1): BatchNorm1d(32, eps=1e-05, momentum=0.1, affine=True, track_running_stats=True)\n",
      "    (2): MaxPool1d(kernel_size=2, stride=2, padding=0, dilation=1, ceil_mode=False)\n",
      "  )\n",
      "  (conv5): Sequential(\n",
      "    (0): Conv1d(32, 64, kernel_size=(4,), stride=(1,))\n",
      "    (1): BatchNorm1d(64, eps=1e-05, momentum=0.1, affine=True, track_running_stats=True)\n",
      "    (2): MaxPool1d(kernel_size=2, stride=2, padding=0, dilation=1, ceil_mode=False)\n",
      "  )\n",
      "  (conv6): Sequential(\n",
      "    (0): Conv1d(64, 64, kernel_size=(4,), stride=(1,))\n",
      "    (1): BatchNorm1d(64, eps=1e-05, momentum=0.1, affine=True, track_running_stats=True)\n",
      "    (2): MaxPool1d(kernel_size=2, stride=2, padding=0, dilation=1, ceil_mode=False)\n",
      "  )\n",
      "  (conv7): Sequential(\n",
      "    (0): Conv1d(64, 128, kernel_size=(4,), stride=(1,))\n",
      "    (1): BatchNorm1d(128, eps=1e-05, momentum=0.1, affine=True, track_running_stats=True)\n",
      "    (2): MaxPool1d(kernel_size=2, stride=2, padding=0, dilation=1, ceil_mode=False)\n",
      "  )\n",
      "  (conv8): Sequential(\n",
      "    (0): Conv1d(128, 128, kernel_size=(5,), stride=(1,))\n",
      "    (1): BatchNorm1d(128, eps=1e-05, momentum=0.1, affine=True, track_running_stats=True)\n",
      "    (2): MaxPool1d(kernel_size=2, stride=2, padding=0, dilation=1, ceil_mode=False)\n",
      "  )\n",
      "  (fc): Linear(in_features=1536, out_features=1, bias=True)\n",
      ")\n"
     ]
    }
   ],
   "source": [
    "model = CNN_PD()\n",
    "# model.load_state_dict(\"model.tar\")\n",
    "loss_module = nn.BCEWithLogitsLoss()\n",
    "optimizer = torch.optim.Adam(model.parameters(), lr=1e-4)\n",
    "print(model)"
   ]
  },
  {
   "cell_type": "code",
   "execution_count": null,
   "metadata": {},
   "outputs": [],
   "source": [
    "for name, param in model.named_parameters():\n",
    "    print(name, param.shape)"
   ]
  },
  {
   "cell_type": "code",
   "execution_count": 329,
   "metadata": {},
   "outputs": [],
   "source": [
    "model = model.to(device)"
   ]
  },
  {
   "cell_type": "code",
   "execution_count": 330,
   "metadata": {},
   "outputs": [],
   "source": [
    "X_train, X_test, Y_train, Y_test = np.load('X_train.npy'), np.load('X_test.npy'), np.load('y_train.npy'), np.load('y_test.npy')"
   ]
  },
  {
   "cell_type": "code",
   "execution_count": 331,
   "metadata": {},
   "outputs": [
    {
     "name": "stdout",
     "output_type": "stream",
     "text": [
      "(1789, 4000, 3) (199, 4000, 3)\n"
     ]
    }
   ],
   "source": [
    "print(X_train.shape, X_test.shape)"
   ]
  },
  {
   "cell_type": "code",
   "execution_count": 320,
   "metadata": {},
   "outputs": [],
   "source": [
    "class UserAccelDataset(Dataset):\n",
    "    def __init__(self, data, labels):\n",
    "        self.data = data\n",
    "        self.labels = labels\n",
    "\n",
    "    def __len__(self):\n",
    "        return len(self.data)\n",
    "    \n",
    "    def __getitem__(self, index):\n",
    "        return self.data[index], self.labels[index]"
   ]
  },
  {
   "cell_type": "code",
   "execution_count": 335,
   "metadata": {},
   "outputs": [
    {
     "name": "stdout",
     "output_type": "stream",
     "text": [
      "torch.Size([1789, 3, 4000])\n",
      "torch.Size([199, 3, 4000])\n"
     ]
    }
   ],
   "source": [
    "train_dataset = UserAccelDataset(torch.tensor(X_train, dtype=torch.float32).permute(0, 2, 1), torch.tensor(Y_train, dtype=torch.long))\n",
    "test_dataset = UserAccelDataset(torch.tensor(X_test, dtype=torch.float32).permute(0, 2, 1), torch.tensor(Y_test, dtype=torch.long))\n",
    "print(train_dataset.data.shape)\n",
    "print(test_dataset.data.shape)"
   ]
  },
  {
   "cell_type": "code",
   "execution_count": 336,
   "metadata": {},
   "outputs": [],
   "source": [
    "train_dataloader = DataLoader(train_dataset, batch_size=BATCH_SIZE, shuffle=True)\n",
    "test_dataloader = DataLoader(test_dataset, batch_size=BATCH_SIZE, shuffle=True)\n"
   ]
  },
  {
   "cell_type": "code",
   "execution_count": 338,
   "metadata": {},
   "outputs": [
    {
     "data": {
      "application/vnd.jupyter.widget-view+json": {
       "model_id": "681e1063dee449b296e6e7b8aaa25b3a",
       "version_major": 2,
       "version_minor": 0
      },
      "text/plain": [
       "  0%|          | 0/30 [00:00<?, ?it/s]"
      ]
     },
     "metadata": {},
     "output_type": "display_data"
    },
    {
     "name": "stdout",
     "output_type": "stream",
     "text": [
      "Training Loss:  0.2077348630742303\n",
      "Eval loss:  0.7745232582092285\n",
      "Eval Accuracy:  tensor(57.1429, device='mps:0')\n",
      "Training Loss:  0.15990460351375596\n",
      "Eval loss:  0.8040136190561148\n",
      "Eval Accuracy:  tensor(71.4286, device='mps:0')\n",
      "Training Loss:  0.13579537463374436\n",
      "Eval loss:  0.8780617026182321\n",
      "Eval Accuracy:  tensor(57.1429, device='mps:0')\n",
      "Training Loss:  0.11053075235603112\n",
      "Eval loss:  0.8093953224328848\n",
      "Eval Accuracy:  tensor(57.1429, device='mps:0')\n",
      "Training Loss:  0.0901795483992568\n",
      "Eval loss:  0.9358590107697707\n",
      "Eval Accuracy:  tensor(57.1429, device='mps:0')\n",
      "Training Loss:  0.06927336240187287\n",
      "Eval loss:  0.9492923227640299\n",
      "Eval Accuracy:  tensor(28.5714, device='mps:0')\n",
      "Training Loss:  0.05570474345170494\n",
      "Eval loss:  1.0066382403557117\n",
      "Eval Accuracy:  tensor(71.4286, device='mps:0')\n",
      "Training Loss:  0.04650395864986682\n",
      "Eval loss:  1.1606886753669152\n",
      "Eval Accuracy:  tensor(57.1429, device='mps:0')\n",
      "Training Loss:  0.04267419010284357\n",
      "Eval loss:  1.1048576006522546\n",
      "Eval Accuracy:  tensor(42.8571, device='mps:0')\n",
      "Training Loss:  0.029452786373440176\n",
      "Eval loss:  1.0956983956006856\n",
      "Eval Accuracy:  tensor(57.1429, device='mps:0')\n",
      "Training Loss:  0.02745234314352274\n",
      "Eval loss:  1.0940276384353638\n",
      "Eval Accuracy:  tensor(71.4286, device='mps:0')\n",
      "Training Loss:  0.029019266279647127\n",
      "Eval loss:  1.111097656763517\n",
      "Eval Accuracy:  tensor(71.4286, device='mps:0')\n",
      "Training Loss:  0.05477603303318444\n",
      "Eval loss:  1.1447758284898906\n",
      "Eval Accuracy:  tensor(14.2857, device='mps:0')\n",
      "Training Loss:  0.022423354068970575\n",
      "Eval loss:  1.0957088699707618\n",
      "Eval Accuracy:  tensor(57.1429, device='mps:0')\n",
      "Training Loss:  0.01697828405511765\n",
      "Eval loss:  1.2238470591031587\n",
      "Eval Accuracy:  tensor(71.4286, device='mps:0')\n",
      "Training Loss:  0.014628109615711895\n",
      "Eval loss:  1.1741417623483217\n",
      "Eval Accuracy:  tensor(85.7143, device='mps:0')\n",
      "Training Loss:  0.010630274501246666\n",
      "Eval loss:  1.1814777255058289\n",
      "Eval Accuracy:  tensor(85.7143, device='mps:0')\n",
      "Training Loss:  0.011566579873033334\n",
      "Eval loss:  1.2720572214860182\n",
      "Eval Accuracy:  tensor(57.1429, device='mps:0')\n",
      "Training Loss:  0.007687312711953252\n",
      "Eval loss:  1.4912965320623839\n",
      "Eval Accuracy:  tensor(57.1429, device='mps:0')\n",
      "Training Loss:  0.007822570230408539\n",
      "Eval loss:  1.4329262329981878\n",
      "Eval Accuracy:  tensor(42.8571, device='mps:0')\n",
      "Training Loss:  0.010560861703457445\n",
      "Eval loss:  1.4042210991565998\n",
      "Eval Accuracy:  tensor(85.7143, device='mps:0')\n",
      "Training Loss:  0.008147487430895646\n",
      "Eval loss:  1.2401519417762756\n",
      "Eval Accuracy:  tensor(71.4286, device='mps:0')\n",
      "Training Loss:  0.026461151865078136\n",
      "Eval loss:  1.4519090193968553\n",
      "Eval Accuracy:  tensor(57.1429, device='mps:0')\n",
      "Training Loss:  0.019918097484540858\n",
      "Eval loss:  1.371414372554192\n",
      "Eval Accuracy:  tensor(57.1429, device='mps:0')\n",
      "Training Loss:  0.05080624258282894\n",
      "Eval loss:  1.3791320782441359\n",
      "Eval Accuracy:  tensor(71.4286, device='mps:0')\n",
      "Training Loss:  0.021647209891982908\n",
      "Eval loss:  1.3565460122548616\n",
      "Eval Accuracy:  tensor(71.4286, device='mps:0')\n",
      "Training Loss:  0.015891969633230474\n",
      "Eval loss:  1.2880285749068627\n",
      "Eval Accuracy:  tensor(42.8571, device='mps:0')\n",
      "Training Loss:  0.009270447596853566\n",
      "Eval loss:  1.3186774483093848\n",
      "Eval Accuracy:  tensor(57.1429, device='mps:0')\n",
      "Training Loss:  0.006972766754708053\n",
      "Eval loss:  1.3752949146124034\n",
      "Eval Accuracy:  tensor(57.1429, device='mps:0')\n",
      "Training Loss:  0.005546277754807046\n",
      "Eval loss:  1.4457013538250556\n",
      "Eval Accuracy:  tensor(71.4286, device='mps:0')\n"
     ]
    }
   ],
   "source": [
    "# Train\n",
    "\n",
    "model.train()\n",
    "loss_train=[]\n",
    "loss_test = []\n",
    "for epoch in tqdm(range(NUM_EPOCHS)):\n",
    "    loss_ls = []\n",
    "    for inputs, labels in train_dataloader:\n",
    "        inputs = inputs.to(device)\n",
    "        labels = labels.to(device)\n",
    "        preds = model(inputs)\n",
    "        preds = preds.squeeze(dim=1)\n",
    "        loss = loss_module(preds, labels.float())\n",
    "        loss_ls.append(loss.item())\n",
    "        optimizer.zero_grad()\n",
    "        loss.backward()\n",
    "        optimizer.step()\n",
    "    print(\"Training Loss: \", np.mean(loss_ls))\n",
    "    loss_train.append(np.mean(loss_ls))\n",
    "\n",
    "    true_preds = 0\n",
    "    num_preds = 0\n",
    "\n",
    "    \n",
    "    with torch.no_grad():\n",
    "        loss_ts=[]\n",
    "        for inputs, labels in test_dataloader:\n",
    "            inputs = inputs.to(device)\n",
    "            labels = labels.to(device)\n",
    "            #print(inputs.shape)\n",
    "            preds = model(inputs)\n",
    "            preds = preds.squeeze(dim=1)\n",
    "            loss = loss_module(preds, labels.float())\n",
    "            loss_ts.append(loss.item())\n",
    "            preds = F.sigmoid(preds)\n",
    "            # print(preds)\n",
    "            pred_labels = (preds>=0.5).long()\n",
    "            true_preds = (pred_labels==labels).sum()\n",
    "            num_preds = labels.shape[0]\n",
    "    acc = true_preds/num_preds\n",
    "    print(\"Eval loss: \", np.mean(loss_ts))\n",
    "    print(\"Eval Accuracy: \", acc*100)\n",
    "    loss_test.append(np.mean(loss_ts))\n"
   ]
  },
  {
   "cell_type": "code",
   "execution_count": 340,
   "metadata": {},
   "outputs": [
    {
     "data": {
      "text/plain": [
       "[<matplotlib.lines.Line2D at 0x32cca0d30>]"
      ]
     },
     "execution_count": 340,
     "metadata": {},
     "output_type": "execute_result"
    },
    {
     "data": {
      "image/png": "[encoded data removed]",
      "text/plain": [
       "<Figure size 640x480 with 1 Axes>"
      ]
     },
     "metadata": {},
     "output_type": "display_data"
    }
   ],
   "source": [
    "import matplotlib.pyplot as plt\n",
    "\n",
    "plt.plot(loss_train)\n",
    "plt.plot(loss_test)"
   ]
  },
  {
   "cell_type": "code",
   "execution_count": null,
   "metadata": {},
   "outputs": [],
   "source": []
  },
  {
   "cell_type": "code",
   "execution_count": 282,
   "metadata": {},
   "outputs": [],
   "source": [
    "torch.save(model.state_dict(), \"model.tar\")"
   ]
  },
  {
   "cell_type": "code",
   "execution_count": 300,
   "metadata": {},
   "outputs": [
    {
     "name": "stdout",
     "output_type": "stream",
     "text": [
      "Accuracy:  tensor(57.1429, device='mps:0')\n"
     ]
    }
   ],
   "source": [
    "model = CNN_PD()\n",
    "model.load_state_dict(torch.load(\"model.tar\"))\n",
    "model.eval()\n",
    "model = model.to(device)\n",
    "\n",
    "true_preds = 0\n",
    "num_preds = 0\n",
    "\n",
    "with torch.no_grad():\n",
    "    for inputs, labels in test_dataloader:\n",
    "        inputs = inputs.to(device)\n",
    "        labels = labels.to(device)\n",
    "        #print(inputs.shape)\n",
    "        preds = model(inputs)\n",
    "        preds = preds.squeeze(dim=1)\n",
    "        preds = F.sigmoid(preds)\n",
    "        # print(preds)\n",
    "        pred_labels = (preds>=0.5).long()\n",
    "        true_preds = (pred_labels==labels).sum()\n",
    "        num_preds = labels.shape[0]\n",
    "acc = true_preds/num_preds\n",
    "\n",
    "print(\"Accuracy: \", acc*100)"
   ]
  }
 ],
 "metadata": {
  "kernelspec": {
   "display_name": "Python 3 (ipykernel)",
   "language": "python",
   "name": "python3"
  },
  "language_info": {
   "codemirror_mode": {
    "name": "ipython",
    "version": 3
   },
   "file_extension": ".py",
   "mimetype": "text/x-python",
   "name": "python",
   "nbconvert_exporter": "python",
   "pygments_lexer": "ipython3",
   "version": "3.9.6"
  }
 },
 "nbformat": 4,
 "nbformat_minor": 2
}
